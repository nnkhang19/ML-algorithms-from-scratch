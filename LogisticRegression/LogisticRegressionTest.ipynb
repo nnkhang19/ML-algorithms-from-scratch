{
 "cells": [
  {
   "cell_type": "code",
   "execution_count": 1,
   "metadata": {},
   "outputs": [],
   "source": [
    "import sklearn\n",
    "from sklearn import datasets\n",
    "import sklearn.model_selection\n",
    "from sklearn.metrics import precision_recall_fscore_support\n",
    "import numpy as np\n",
    "import sys\n",
    "sys.path.append(\"/home/nhatkhang/Documents/Machinelearning/code\")\n",
    "import LogisticRegression\n",
    "from LogisticRegression import LogisticRegression"
   ]
  },
  {
   "cell_type": "code",
   "execution_count": 2,
   "metadata": {},
   "outputs": [
    {
     "name": "stdout",
     "output_type": "stream",
     "text": [
      "<class 'sklearn.utils.Bunch'>\n"
     ]
    }
   ],
   "source": [
    "cancer = datasets.load_breast_cancer()\n",
    "print(type(cancer))"
   ]
  },
  {
   "cell_type": "code",
   "execution_count": 3,
   "metadata": {},
   "outputs": [
    {
     "data": {
      "text/plain": [
       "array(['mean radius', 'mean texture', 'mean perimeter', 'mean area',\n",
       "       'mean smoothness', 'mean compactness', 'mean concavity',\n",
       "       'mean concave points', 'mean symmetry', 'mean fractal dimension',\n",
       "       'radius error', 'texture error', 'perimeter error', 'area error',\n",
       "       'smoothness error', 'compactness error', 'concavity error',\n",
       "       'concave points error', 'symmetry error',\n",
       "       'fractal dimension error', 'worst radius', 'worst texture',\n",
       "       'worst perimeter', 'worst area', 'worst smoothness',\n",
       "       'worst compactness', 'worst concavity', 'worst concave points',\n",
       "       'worst symmetry', 'worst fractal dimension'], dtype='<U23')"
      ]
     },
     "execution_count": 3,
     "metadata": {},
     "output_type": "execute_result"
    }
   ],
   "source": [
    "cancer.feature_names"
   ]
  },
  {
   "cell_type": "code",
   "execution_count": 4,
   "metadata": {},
   "outputs": [],
   "source": [
    "raw_x = cancer.data\n",
    "raw_y = cancer.target"
   ]
  },
  {
   "cell_type": "code",
   "execution_count": 5,
   "metadata": {},
   "outputs": [],
   "source": [
    "#normalize:\n",
    "raw_x = raw_x / np.amax(raw_x)"
   ]
  },
  {
   "cell_type": "code",
   "execution_count": 6,
   "metadata": {},
   "outputs": [],
   "source": [
    "x_train, x_test, y_train, y_test = sklearn.model_selection.train_test_split(raw_x, raw_y, test_size=0.2)"
   ]
  },
  {
   "cell_type": "code",
   "execution_count": 7,
   "metadata": {},
   "outputs": [],
   "source": [
    "shape = x_train.shape\n",
    "model = LogisticRegression(shape, learning_rate = 0.001)"
   ]
  },
  {
   "cell_type": "code",
   "execution_count": 8,
   "metadata": {
    "collapsed": true
   },
   "outputs": [
    {
     "name": "stdout",
     "output_type": "stream",
     "text": [
      "Epochs : 0, Loss: 0.6647519053854849\n",
      "Epochs : 100, Loss: 0.565013073872385\n",
      "Epochs : 200, Loss: 0.5271102195135671\n",
      "Epochs : 300, Loss: 0.5060056189989133\n",
      "Epochs : 400, Loss: 0.49046365821895765\n",
      "Epochs : 500, Loss: 0.47720019326162383\n",
      "Epochs : 600, Loss: 0.4651765302552524\n",
      "Epochs : 700, Loss: 0.4540370861336346\n",
      "Epochs : 800, Loss: 0.44363940973710075\n",
      "Epochs : 900, Loss: 0.4339083736317969\n",
      "Epochs : 1000, Loss: 0.42479072569115606\n",
      "Epochs : 1100, Loss: 0.4162410986152583\n",
      "Epochs : 1200, Loss: 0.40821786557974105\n",
      "Epochs : 1300, Loss: 0.40068202520389484\n",
      "Epochs : 1400, Loss: 0.39359696906619107\n",
      "Epochs : 1500, Loss: 0.386928464752521\n",
      "Epochs : 1600, Loss: 0.3806446566157502\n",
      "Epochs : 1700, Loss: 0.3747160341799628\n",
      "Epochs : 1800, Loss: 0.3691153632529188\n",
      "Epochs : 1900, Loss: 0.3638175871613403\n",
      "Epochs : 2000, Loss: 0.35879970754519097\n",
      "Epochs : 2100, Loss: 0.35404065310968\n",
      "Epochs : 2200, Loss: 0.3478806875308493\n",
      "Epochs : 2300, Loss: 0.3412901783419972\n",
      "Epochs : 2400, Loss: 0.3349461866598938\n",
      "Epochs : 2500, Loss: 0.3288362041190677\n",
      "Epochs : 2600, Loss: 0.32294848746333343\n",
      "Epochs : 2700, Loss: 0.3172720081166703\n",
      "Epochs : 2800, Loss: 0.311796404459414\n",
      "Epochs : 2900, Loss: 0.30651193692228956\n",
      "Epochs : 3000, Loss: 0.30140944591451224\n",
      "Epochs : 3100, Loss: 0.29648031253587387\n",
      "Epochs : 3200, Loss: 0.2917164219785852\n",
      "Epochs : 3300, Loss: 0.2871101294966296\n",
      "Epochs : 3400, Loss: 0.2826542288040743\n",
      "Epochs : 3500, Loss: 0.27834192275571945\n",
      "Epochs : 3600, Loss: 0.2741667961613909\n",
      "Epochs : 3700, Loss: 0.27012279058700267\n",
      "Epochs : 3800, Loss: 0.26620418100017584\n",
      "Epochs : 3900, Loss: 0.2624055541244756\n",
      "Epochs : 4000, Loss: 0.25872178837373644\n",
      "Epochs : 4100, Loss: 0.2551480352458134\n",
      "Epochs : 4200, Loss: 0.25167970206314366\n",
      "Epochs : 4300, Loss: 0.24831243595557623\n",
      "Epochs : 4400, Loss: 0.2450421089885836\n",
      "Epochs : 4500, Loss: 0.24186480434750665\n",
      "Epochs : 4600, Loss: 0.23877680349540895\n",
      "Epochs : 4700, Loss: 0.23577457422878695\n",
      "Epochs : 4800, Loss: 0.23285475956143253\n",
      "Epochs : 4900, Loss: 0.23001416737252303\n",
      "Epochs : 5000, Loss: 0.2272497607601617\n",
      "Epochs : 5100, Loss: 0.22455864904653025\n",
      "Epochs : 5200, Loss: 0.22193807938517646\n",
      "Epochs : 5300, Loss: 0.21938542892507293\n",
      "Epochs : 5400, Loss: 0.2168981974898007\n",
      "Epochs : 5500, Loss: 0.2144740007336374\n",
      "Epochs : 5600, Loss: 0.21211056373939752\n",
      "Epochs : 5700, Loss: 0.20980571502581788\n",
      "Epochs : 5800, Loss: 0.20755738093477938\n",
      "Epochs : 5900, Loss: 0.20536358037111097\n",
      "Epochs : 6000, Loss: 0.2032224198698768\n",
      "Epochs : 6100, Loss: 0.2011320889680026\n",
      "Epochs : 6200, Loss: 0.19909085585895836\n",
      "Epochs : 6300, Loss: 0.1970970633108658\n",
      "Epochs : 6400, Loss: 0.19514912482989\n",
      "Epochs : 6500, Loss: 0.1932455210521946\n",
      "Epochs : 6600, Loss: 0.19138479634900474\n",
      "Epochs : 6700, Loss: 0.1895655556305043\n",
      "Epochs : 6800, Loss: 0.18778646133533095\n",
      "Epochs : 6900, Loss: 0.18604623059343914\n",
      "Epochs : 7000, Loss: 0.1843436325510052\n",
      "Epochs : 7100, Loss: 0.18267748584688304\n",
      "Epochs : 7200, Loss: 0.18104665623082525\n",
      "Epochs : 7300, Loss: 0.17945005431448946\n",
      "Epochs : 7400, Loss: 0.17788663344677105\n",
      "Epochs : 7500, Loss: 0.1763553877057169\n",
      "Epochs : 7600, Loss: 0.17485534999971947\n",
      "Epochs : 7700, Loss: 0.17338559027127254\n",
      "Epochs : 7800, Loss: 0.17194521379698427\n",
      "Epochs : 7900, Loss: 0.17053335957801696\n",
      "Epochs : 8000, Loss: 0.1691491988154811\n",
      "Epochs : 8100, Loss: 0.16779193346569465\n",
      "Epochs : 8200, Loss: 0.166460794870583\n",
      "Epochs : 8300, Loss: 0.16515504245876333\n",
      "Epochs : 8400, Loss: 0.16387396251319958\n",
      "Epochs : 8500, Loss: 0.162616867001531\n",
      "Epochs : 8600, Loss: 0.16138309246548738\n",
      "Epochs : 8700, Loss: 0.1601719989659831\n",
      "Epochs : 8800, Loss: 0.1589829690807467\n",
      "Epochs : 8900, Loss: 0.1578154069514866\n",
      "Epochs : 9000, Loss: 0.1566687373778563\n",
      "Epochs : 9100, Loss: 0.15554240495558308\n",
      "Epochs : 9200, Loss: 0.15443587325632346\n",
      "Epochs : 9300, Loss: 0.15334862404696642\n",
      "Epochs : 9400, Loss: 0.15228015654622334\n",
      "Epochs : 9500, Loss: 0.15122998671647747\n",
      "Epochs : 9600, Loss: 0.15019764658900672\n",
      "Epochs : 9700, Loss: 0.1491826836208012\n",
      "Epochs : 9800, Loss: 0.14818466008128295\n",
      "Epochs : 9900, Loss: 0.1472031524673503\n"
     ]
    }
   ],
   "source": [
    "model.fit(x_train, y_train, batch_size = 10)"
   ]
  },
  {
   "cell_type": "code",
   "execution_count": 9,
   "metadata": {},
   "outputs": [],
   "source": [
    "predictions = model.predict(x_test)"
   ]
  },
  {
   "cell_type": "code",
   "execution_count": 10,
   "metadata": {
    "collapsed": true
   },
   "outputs": [
    {
     "name": "stdout",
     "output_type": "stream",
     "text": [
      "[1 1 1 1 1 1 1 1 1 1 0 1 1 1 1 0 1 0 1 0 0 1 1 1 1 1 1 1 1 1 0 1 0 1 1 0 1\n",
      " 0 1 1 1 0 1 1 1 0 1 1 1 0 0 1 1 0 1 0 0 0 0 1 1 0 1 1 1 1 1 1 1 1 0 1 1 1\n",
      " 0 1 0 1 1 1 1 1 1 0 1 1 0 1 0 1 1 0 1 1 1 1 1 1 0 1 1 0 1 1 1 0 1 0 0 1 0\n",
      " 1 0 1]\n",
      "[1 1 1 1 1 1 1 1 1 0 0 1 1 1 1 0 0 0 1 0 0 0 0 1 1 1 1 1 1 1 0 0 0 1 1 0 0\n",
      " 1 1 1 1 0 1 1 1 0 1 1 1 0 0 1 1 0 1 0 0 0 0 1 1 0 0 1 1 1 0 1 1 0 0 1 0 0\n",
      " 0 1 0 1 1 1 1 1 1 0 1 1 0 1 0 1 0 0 1 1 1 1 1 1 1 1 1 0 1 1 1 0 1 1 1 1 0\n",
      " 1 0 1]\n"
     ]
    }
   ],
   "source": [
    "print(predictions)\n",
    "print(y_test)"
   ]
  },
  {
   "cell_type": "code",
   "execution_count": 11,
   "metadata": {},
   "outputs": [
    {
     "name": "stdout",
     "output_type": "stream",
     "text": [
      "Precision:  0.8653198653198653\n",
      "Recall:  0.8262612763113932\n",
      "F1-score:  0.8399438399438399\n"
     ]
    }
   ],
   "source": [
    "precision, recall, f1_score, support = precision_recall_fscore_support(y_test, predictions, average = 'macro')\n",
    "print(\"Precision: \", precision)\n",
    "print(\"Recall: \", recall)\n",
    "print(\"F1-score: \", f1_score)"
   ]
  },
  {
   "cell_type": "code",
   "execution_count": null,
   "metadata": {},
   "outputs": [],
   "source": []
  }
 ],
 "metadata": {
  "kernelspec": {
   "display_name": "Python 3",
   "language": "python",
   "name": "python3"
  },
  "language_info": {
   "codemirror_mode": {
    "name": "ipython",
    "version": 3
   },
   "file_extension": ".py",
   "mimetype": "text/x-python",
   "name": "python",
   "nbconvert_exporter": "python",
   "pygments_lexer": "ipython3",
   "version": "3.8.5"
  }
 },
 "nbformat": 4,
 "nbformat_minor": 4
}

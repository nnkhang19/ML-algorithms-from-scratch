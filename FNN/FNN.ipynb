{
 "cells": [
  {
   "cell_type": "code",
   "execution_count": 1,
   "metadata": {},
   "outputs": [],
   "source": [
    "import numpy as np"
   ]
  },
  {
   "cell_type": "code",
   "execution_count": 7,
   "metadata": {},
   "outputs": [],
   "source": [
    "class Layer:\n",
    "    def __init__(self, num_of_nodes):\n",
    "        self.nums = num_of_nodes\n",
    "        self.biases = np.array([[0] * self.nums], dtype = np.float64)\n",
    "        self.values = np.array([[0] * self.nums], dtype = np.float64)\n",
    "        \n",
    "        \n",
    "\n",
    "class FNN:\n",
    "    def __init__(self,num_of_layers, nodes, learning_rate):\n",
    "        '''\n",
    "         num_of_layers : number of layers in the net.\n",
    "         nodes : a list containing number of nodes in each layer.(e.g : [3, 2, 1])\n",
    "        \n",
    "        '''\n",
    "        self.num_of_layers = num_of_layers\n",
    "        self.layers = [Layer(num_of_node) for num_of_node in nodes]\n",
    "        self.weights = self._init_weights()\n",
    "        self.learning_rate = learning_rate\n",
    "        \n",
    "    def _init_weights(self):\n",
    "        '''\n",
    "            TODO : initialize weights\n",
    "        '''\n",
    "        weights = []\n",
    "        for i in range(self.num_of_layers - 1):\n",
    "            shape = (self.layers[i].nums, self.layers[i + 1].nums)\n",
    "            weight = np.random.normal(0, np.sqrt(2./np.sum(shape)), shape)\n",
    "            weights.append(weight)\n",
    "        return weights\n",
    "    \n",
    "    def forward_propagate(self, x):\n",
    "        def sigmoid(z):\n",
    "            return 1. / (1 + np.exp(-z))\n",
    "        self.layers[0].values = x\n",
    "        for i in range(1, len(self.layers)):\n",
    "            self.layers[i].values = sigmoid(self.layers[i-1].values @ self.weights[i - 1] + self.layers[i].biases)\n",
    "            \n",
    "    def backward_propagate(self, y):\n",
    "        e = y - self.layers[-1].values # (y - y_hat)\n",
    "        sig = self.layers[-1].values * (1 - self.layers[-1].values) * e\n",
    "        dW = np.ones((self.layers[-2].nums, self.layers[-1].nums)) * self.layers[-2].values.T\n",
    "        tmp = np.ones((self.layers[-2].nums, self.layers[-1].nums)) * sig\n",
    "        dW = dW * tmp\n",
    "        self.weights[-1] += self.learning_rate * dW\n",
    "        self.layers[-1].biases += self.learning_rate * sig\n",
    "        \n",
    "        for i in range(self.num_of_layers - 2, 0, -1):\n",
    "            sig = self.layers[i].values * (1 - self.layers[i].values) * (sig @ self.weights[i].T)\n",
    "            dW = np.ones((self.layers[i-1].nums, self.layers[i].nums)) * self.layers[i-1].values.T\n",
    "            tmp = np.ones((self.layers[i-1].nums, self.layers[i].nums)) * sig\n",
    "            dW = dW * tmp\n",
    "            self.weights[i-1] += self.learning_rate * dW\n",
    "            self.layers[i].biases += self.learning_rate * sig\n",
    "        \n",
    "    def output(self):\n",
    "        '''\n",
    "            return y_hat values in the rightmost layer.\n",
    "        '''\n",
    "        return self.layers[-1].values\n",
    "    \n",
    "\n",
    "    \n",
    "        \n",
    "        \n",
    "    "
   ]
  },
  {
   "cell_type": "code",
   "execution_count": 8,
   "metadata": {},
   "outputs": [],
   "source": [
    "model = FNN(3, [2, 2, 1], 0.1)"
   ]
  },
  {
   "cell_type": "code",
   "execution_count": 9,
   "metadata": {},
   "outputs": [],
   "source": [
    "x = np.array([[0,0],[0,1], [1, 0], [1, 1]], dtype = np.float64)\n",
    "y = np.array([[0, 1, 1, 0]], dtype = np.float64)"
   ]
  },
  {
   "cell_type": "code",
   "execution_count": 10,
   "metadata": {},
   "outputs": [],
   "source": [
    "for _ in range(100000):\n",
    "    for i in range(4):\n",
    "        model.forward_propagate(x[i].reshape(1,-1))\n",
    "        model.backward_propagate(y[0][i])"
   ]
  },
  {
   "cell_type": "code",
   "execution_count": 11,
   "metadata": {},
   "outputs": [
    {
     "name": "stdout",
     "output_type": "stream",
     "text": [
      "[[0.01065489]]\n",
      "[[0.98887653]]\n",
      "[[0.98888377]]\n",
      "[[0.01365655]]\n"
     ]
    }
   ],
   "source": [
    "for i in range(4):\n",
    "    model.forward_propagate(x[i].reshape(1,-1))\n",
    "    print(model.output())"
   ]
  },
  {
   "cell_type": "code",
   "execution_count": null,
   "metadata": {},
   "outputs": [],
   "source": []
  }
 ],
 "metadata": {
  "kernelspec": {
   "display_name": "Python 3",
   "language": "python",
   "name": "python3"
  },
  "language_info": {
   "codemirror_mode": {
    "name": "ipython",
    "version": 3
   },
   "file_extension": ".py",
   "mimetype": "text/x-python",
   "name": "python",
   "nbconvert_exporter": "python",
   "pygments_lexer": "ipython3",
   "version": "3.8.5"
  }
 },
 "nbformat": 4,
 "nbformat_minor": 4
}

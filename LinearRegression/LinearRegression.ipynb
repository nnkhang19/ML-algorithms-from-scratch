{
 "cells": [
  {
   "cell_type": "code",
   "execution_count": 1,
   "metadata": {},
   "outputs": [],
   "source": [
    "from sklearn.metrics import mean_squared_error\n",
    "import sys\n",
    "sys.path.append(\"/home/nhatkhang/Documents/Machinelearning/\")\n",
    "import LinearRegression\n",
    "from LinearRegression import LinearRegression"
   ]
  },
  {
   "cell_type": "code",
   "execution_count": 2,
   "metadata": {},
   "outputs": [
    {
     "name": "stdout",
     "output_type": "stream",
     "text": [
      "Selected original features are ['INDUS' 'RM']\n"
     ]
    }
   ],
   "source": [
    "from utils_function import load_Boston_housing_data\n",
    "import numpy as np\n",
    "\n",
    "train_X, test_X, train_Y, test_Y = load_Boston_housing_data(feature_ind = [2,5])"
   ]
  },
  {
   "cell_type": "code",
   "execution_count": 3,
   "metadata": {},
   "outputs": [],
   "source": [
    "float_formatter = \"{:.2f}\".format\n",
    "np.set_printoptions(formatter={'float_kind':float_formatter})"
   ]
  },
  {
   "cell_type": "code",
   "execution_count": 4,
   "metadata": {},
   "outputs": [],
   "source": [
    "epochs = 100000\n",
    "learning_rate = 0.001\n",
    "model = LinearRegression(train_X.shape, epochs, learning_rate)"
   ]
  },
  {
   "cell_type": "code",
   "execution_count": 5,
   "metadata": {},
   "outputs": [
    {
     "name": "stdout",
     "output_type": "stream",
     "text": [
      "Epoch 0 Loss: 46544.82969345418\n",
      "Epoch 1000 Loss: 6.248018437839649\n",
      "Epoch 2000 Loss: 6.149277855336053\n",
      "Epoch 3000 Loss: 6.0470299030834465\n",
      "Epoch 4000 Loss: 5.946482048430701\n",
      "Epoch 5000 Loss: 5.847606067611932\n",
      "Epoch 6000 Loss: 5.750374161308399\n",
      "Epoch 7000 Loss: 5.654758992433173\n",
      "Epoch 8000 Loss: 5.5607336784546675\n",
      "Epoch 9000 Loss: 5.46827178383446\n",
      "Epoch 10000 Loss: 5.3773473125915805\n",
      "Epoch 11000 Loss: 5.287934701000134\n",
      "Epoch 12000 Loss: 5.200008810396528\n",
      "Epoch 13000 Loss: 5.113544920116161\n",
      "Epoch 14000 Loss: 5.028518720538279\n",
      "Epoch 15000 Loss: 4.9449063062562315\n",
      "Epoch 16000 Loss: 4.862684169351778\n",
      "Epoch 17000 Loss: 4.781829192789047\n",
      "Epoch 18000 Loss: 4.702318643914699\n",
      "Epoch 19000 Loss: 4.624130168065115\n",
      "Epoch 20000 Loss: 4.547241782280129\n",
      "Epoch 21000 Loss: 4.471631869128403\n",
      "Epoch 22000 Loss: 4.397279170622609\n",
      "Epoch 23000 Loss: 4.324162782245776\n",
      "Epoch 24000 Loss: 4.2522621470753235\n",
      "Epoch 25000 Loss: 4.181557050000449\n",
      "Epoch 26000 Loss: 4.112027612040601\n",
      "Epoch 27000 Loss: 4.043654284755253\n",
      "Epoch 28000 Loss: 3.976417844749615\n",
      "Epoch 29000 Loss: 3.910299388267326\n",
      "Epoch 30000 Loss: 3.8452803258768298\n",
      "Epoch 31000 Loss: 3.781342377246734\n",
      "Epoch 32000 Loss: 3.7184675660028317\n",
      "Epoch 33000 Loss: 3.656638214676682\n",
      "Epoch 34000 Loss: 3.5958369397327568\n",
      "Epoch 35000 Loss: 3.5360466466855014\n",
      "Epoch 36000 Loss: 3.4772505252876806\n",
      "Epoch 37000 Loss: 3.419432044807967\n",
      "Epoch 38000 Loss: 3.362574949382978\n",
      "Epoch 39000 Loss: 3.3066632534443854\n",
      "Epoch 40000 Loss: 3.2516812372270003\n",
      "Epoch 41000 Loss: 3.1976134423496125\n",
      "Epoch 42000 Loss: 3.144444667464402\n",
      "Epoch 43000 Loss: 3.092159963989027\n",
      "Epoch 44000 Loss: 3.0407446318991216\n",
      "Epoch 45000 Loss: 2.9901842155978917\n",
      "Epoch 46000 Loss: 2.9404644998509353\n",
      "Epoch 47000 Loss: 2.8915715057884457\n",
      "Epoch 48000 Loss: 2.843491486978474\n",
      "Epoch 49000 Loss: 2.796210925558769\n",
      "Epoch 50000 Loss: 2.749716528436313\n",
      "Epoch 51000 Loss: 2.7039952235530804\n",
      "Epoch 52000 Loss: 2.6590341562061566\n",
      "Epoch 53000 Loss: 2.61482068543766\n",
      "Epoch 54000 Loss: 2.5713423804779767\n",
      "Epoch 55000 Loss: 2.528587017253578\n",
      "Epoch 56000 Loss: 2.4865425749464776\n",
      "Epoch 57000 Loss: 2.445197232617258\n",
      "Epoch 58000 Loss: 2.40453936588193\n",
      "Epoch 59000 Loss: 2.3645575436417587\n",
      "Epoch 60000 Loss: 2.3252405248692165\n",
      "Epoch 61000 Loss: 2.286577255449772\n",
      "Epoch 62000 Loss: 2.2485568650731644\n",
      "Epoch 63000 Loss: 2.211168664175742\n",
      "Epoch 64000 Loss: 2.174402140936614\n",
      "Epoch 65000 Loss: 2.1382469583211727\n",
      "Epoch 66000 Loss: 2.1026929511766808\n",
      "Epoch 67000 Loss: 2.067730123371572\n",
      "Epoch 68000 Loss: 2.0333486449861913\n",
      "Epoch 69000 Loss: 1.9995388495503836\n",
      "Epoch 70000 Loss: 1.966291231324574\n",
      "Epoch 71000 Loss: 1.9335964426262273\n",
      "Epoch 72000 Loss: 1.901445291203746\n",
      "Epoch 73000 Loss: 1.869828737650225\n",
      "Epoch 74000 Loss: 1.8387378928628872\n",
      "Epoch 75000 Loss: 1.8081640155444734\n",
      "Epoch 76000 Loss: 1.77809850974453\n",
      "Epoch 77000 Loss: 1.7485329224425832\n",
      "Epoch 78000 Loss: 1.7194589411721217\n",
      "Epoch 79000 Loss: 1.6908683916840894\n",
      "Epoch 80000 Loss: 1.6627532356472172\n",
      "Epoch 81000 Loss: 1.6351055683885805\n",
      "Epoch 82000 Loss: 1.6079176166719835\n",
      "Epoch 83000 Loss: 1.581181736511725\n",
      "Epoch 84000 Loss: 1.5548904110223578\n",
      "Epoch 85000 Loss: 1.5290362483090987\n",
      "Epoch 86000 Loss: 1.5036119793837184\n",
      "Epoch 87000 Loss: 1.4786104561268365\n",
      "Epoch 88000 Loss: 1.4540246492737303\n",
      "Epoch 89000 Loss: 1.429847646440964\n",
      "Epoch 90000 Loss: 1.4060726501806133\n",
      "Epoch 91000 Loss: 1.3826929760715791\n",
      "Epoch 92000 Loss: 1.3597020508376152\n",
      "Epoch 93000 Loss: 1.3370934105016314\n",
      "Epoch 94000 Loss: 1.3148606985667608\n",
      "Epoch 95000 Loss: 1.2929976642295067\n",
      "Epoch 96000 Loss: 1.2714981606229685\n",
      "Epoch 97000 Loss: 1.2503561430876686\n",
      "Epoch 98000 Loss: 1.2295656674733548\n",
      "Epoch 99000 Loss: 1.2091208884657747\n"
     ]
    }
   ],
   "source": [
    "model.fit(train_X, train_Y)"
   ]
  },
  {
   "cell_type": "code",
   "execution_count": 6,
   "metadata": {},
   "outputs": [],
   "source": [
    "predictions = model.predict(test_X)"
   ]
  },
  {
   "cell_type": "code",
   "execution_count": 7,
   "metadata": {},
   "outputs": [
    {
     "name": "stdout",
     "output_type": "stream",
     "text": [
      "[26.43 19.00 21.91 13.35 21.47 20.98 16.97 23.17 14.58 24.51]\n",
      "[22.60 50.00 23.00 8.30 21.20 19.90 20.60 18.70 16.10 18.60]\n"
     ]
    }
   ],
   "source": [
    "print(predictions[:10])\n",
    "print(test_Y[:10])"
   ]
  },
  {
   "cell_type": "code",
   "execution_count": 8,
   "metadata": {},
   "outputs": [],
   "source": [
    "mse = mean_squared_error(test_Y, predictions)"
   ]
  },
  {
   "cell_type": "code",
   "execution_count": 9,
   "metadata": {},
   "outputs": [
    {
     "name": "stdout",
     "output_type": "stream",
     "text": [
      "Mean square error:  49.20056048848961\n"
     ]
    }
   ],
   "source": [
    "print(\"Mean square error: \", mse)"
   ]
  }
 ],
 "metadata": {
  "kernelspec": {
   "display_name": "Python 3",
   "language": "python",
   "name": "python3"
  },
  "language_info": {
   "codemirror_mode": {
    "name": "ipython",
    "version": 3
   },
   "file_extension": ".py",
   "mimetype": "text/x-python",
   "name": "python",
   "nbconvert_exporter": "python",
   "pygments_lexer": "ipython3",
   "version": "3.8.5"
  }
 },
 "nbformat": 4,
 "nbformat_minor": 4
}
